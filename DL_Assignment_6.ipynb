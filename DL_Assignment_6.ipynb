{
  "nbformat": 4,
  "nbformat_minor": 0,
  "metadata": {
    "colab": {
      "name": "DL_Assignment_6.ipynb",
      "provenance": [],
      "include_colab_link": true
    },
    "kernelspec": {
      "name": "python3",
      "display_name": "Python 3"
    },
    "accelerator": "GPU"
  },
  "cells": [
    {
      "cell_type": "markdown",
      "metadata": {
        "id": "view-in-github",
        "colab_type": "text"
      },
      "source": [
        "<a href=\"https://colab.research.google.com/github/desaigeet96/DL_Assignments/blob/main/DL_Assignment_6.ipynb\" target=\"_parent\"><img src=\"https://colab.research.google.com/assets/colab-badge.svg\" alt=\"Open In Colab\"/></a>"
      ]
    },
    {
      "cell_type": "code",
      "metadata": {
        "id": "Qyfp5ANbr_uW",
        "outputId": "1fbfdf21-db1c-47d7-b41d-c9ae9d65ce1f",
        "colab": {
          "base_uri": "https://localhost:8080/"
        }
      },
      "source": [
        "import tensorflow as tf\n",
        "from keras.datasets import cifar100\n",
        "\n",
        "(X_train,y_train),(X_test,y_test)=cifar100.load_data()\n",
        "print(X_train.shape)\n",
        "print(y_train.shape)\n",
        "print(X_test.shape)\n",
        "print(y_test.shape)\n",
        "\n",
        "# Normalize pixel values between 0 and 1\n",
        "X_train,X_test=X_train/255.0,X_test/255.0"
      ],
      "execution_count": 1,
      "outputs": [
        {
          "output_type": "stream",
          "text": [
            "Downloading data from https://www.cs.toronto.edu/~kriz/cifar-100-python.tar.gz\n",
            "169009152/169001437 [==============================] - 2s 0us/step\n",
            "(50000, 32, 32, 3)\n",
            "(50000, 1)\n",
            "(10000, 32, 32, 3)\n",
            "(10000, 1)\n"
          ],
          "name": "stdout"
        }
      ]
    },
    {
      "cell_type": "code",
      "metadata": {
        "id": "wITTInNdsPhl",
        "outputId": "61dd30fb-8118-42b0-bf84-7550f468a6f5",
        "colab": {
          "base_uri": "https://localhost:8080/"
        }
      },
      "source": [
        "from keras.models import Sequential\n",
        "from keras.layers import Dense\n",
        "\n",
        "\n",
        "model=tf.keras.models.Sequential([\n",
        "tf.keras.layers.Conv2D(32,(3,3),activation='relu',input_shape=(32,32,3)),\n",
        "tf.keras.layers.MaxPooling2D((2, 2)),\n",
        "tf.keras.layers.BatchNormalization(),\n",
        "tf.keras.layers.Dropout(0.5),\n",
        "tf.keras.layers.Conv2D(64,(3,3),activation='relu'),\n",
        "tf.keras.layers.MaxPooling2D((2, 2)),\n",
        "tf.keras.layers.BatchNormalization(),\n",
        "tf.keras.layers.Dropout(0.5),\n",
        "tf.keras.layers.Conv2D(64,(3,3),activation='relu'),\n",
        "tf.keras.layers.Flatten(),\n",
        "tf.keras.layers.Dense(128,activation='softmax'),\n",
        "tf.keras.layers.Dense(100)\n",
        "])\n",
        "\n",
        "model.summary()"
      ],
      "execution_count": 2,
      "outputs": [
        {
          "output_type": "stream",
          "text": [
            "Model: \"sequential\"\n",
            "_________________________________________________________________\n",
            "Layer (type)                 Output Shape              Param #   \n",
            "=================================================================\n",
            "conv2d (Conv2D)              (None, 30, 30, 32)        896       \n",
            "_________________________________________________________________\n",
            "max_pooling2d (MaxPooling2D) (None, 15, 15, 32)        0         \n",
            "_________________________________________________________________\n",
            "batch_normalization (BatchNo (None, 15, 15, 32)        128       \n",
            "_________________________________________________________________\n",
            "dropout (Dropout)            (None, 15, 15, 32)        0         \n",
            "_________________________________________________________________\n",
            "conv2d_1 (Conv2D)            (None, 13, 13, 64)        18496     \n",
            "_________________________________________________________________\n",
            "max_pooling2d_1 (MaxPooling2 (None, 6, 6, 64)          0         \n",
            "_________________________________________________________________\n",
            "batch_normalization_1 (Batch (None, 6, 6, 64)          256       \n",
            "_________________________________________________________________\n",
            "dropout_1 (Dropout)          (None, 6, 6, 64)          0         \n",
            "_________________________________________________________________\n",
            "conv2d_2 (Conv2D)            (None, 4, 4, 64)          36928     \n",
            "_________________________________________________________________\n",
            "flatten (Flatten)            (None, 1024)              0         \n",
            "_________________________________________________________________\n",
            "dense (Dense)                (None, 128)               131200    \n",
            "_________________________________________________________________\n",
            "dense_1 (Dense)              (None, 100)               12900     \n",
            "=================================================================\n",
            "Total params: 200,804\n",
            "Trainable params: 200,612\n",
            "Non-trainable params: 192\n",
            "_________________________________________________________________\n"
          ],
          "name": "stdout"
        }
      ]
    },
    {
      "cell_type": "code",
      "metadata": {
        "id": "SSYm6kgPsaO5",
        "outputId": "59fa23b8-056a-480a-a6c7-49104d152488",
        "colab": {
          "base_uri": "https://localhost:8080/"
        }
      },
      "source": [
        "model.compile(optimizer='adam',loss=tf.keras.losses.SparseCategoricalCrossentropy(from_logits=True),metrics=['accuracy'])\n",
        "history=model.fit(X_train,y_train,epochs=30,validation_data=(X_test,y_test))"
      ],
      "execution_count": 3,
      "outputs": [
        {
          "output_type": "stream",
          "text": [
            "Epoch 1/30\n",
            "1563/1563 [==============================] - 6s 4ms/step - loss: 4.5165 - accuracy: 0.0268 - val_loss: 4.4809 - val_accuracy: 0.0308\n",
            "Epoch 2/30\n",
            "1563/1563 [==============================] - 6s 4ms/step - loss: 4.4189 - accuracy: 0.0320 - val_loss: 4.4142 - val_accuracy: 0.0302\n",
            "Epoch 3/30\n",
            "1563/1563 [==============================] - 6s 4ms/step - loss: 4.3821 - accuracy: 0.0311 - val_loss: 4.3411 - val_accuracy: 0.0363\n",
            "Epoch 4/30\n",
            "1563/1563 [==============================] - 6s 4ms/step - loss: 4.3457 - accuracy: 0.0343 - val_loss: 4.3830 - val_accuracy: 0.0338\n",
            "Epoch 5/30\n",
            "1563/1563 [==============================] - 6s 4ms/step - loss: 4.3235 - accuracy: 0.0361 - val_loss: 4.2942 - val_accuracy: 0.0401\n",
            "Epoch 6/30\n",
            "1563/1563 [==============================] - 6s 4ms/step - loss: 4.3307 - accuracy: 0.0358 - val_loss: 4.2843 - val_accuracy: 0.0386\n",
            "Epoch 7/30\n",
            "1563/1563 [==============================] - 6s 4ms/step - loss: 4.3020 - accuracy: 0.0376 - val_loss: 4.2888 - val_accuracy: 0.0376\n",
            "Epoch 8/30\n",
            "1563/1563 [==============================] - 6s 4ms/step - loss: 4.2888 - accuracy: 0.0372 - val_loss: 4.2874 - val_accuracy: 0.0380\n",
            "Epoch 9/30\n",
            "1563/1563 [==============================] - 6s 4ms/step - loss: 4.2795 - accuracy: 0.0402 - val_loss: 4.2703 - val_accuracy: 0.0397\n",
            "Epoch 10/30\n",
            "1563/1563 [==============================] - 5s 3ms/step - loss: 4.3238 - accuracy: 0.0373 - val_loss: 4.3990 - val_accuracy: 0.0332\n",
            "Epoch 11/30\n",
            "1563/1563 [==============================] - 5s 3ms/step - loss: 4.2906 - accuracy: 0.0379 - val_loss: 4.2926 - val_accuracy: 0.0399\n",
            "Epoch 12/30\n",
            "1563/1563 [==============================] - 6s 4ms/step - loss: 4.3010 - accuracy: 0.0366 - val_loss: 4.3726 - val_accuracy: 0.0324\n",
            "Epoch 13/30\n",
            "1563/1563 [==============================] - 6s 4ms/step - loss: 4.2715 - accuracy: 0.0382 - val_loss: 4.2483 - val_accuracy: 0.0386\n",
            "Epoch 14/30\n",
            "1563/1563 [==============================] - 6s 4ms/step - loss: 4.2725 - accuracy: 0.0389 - val_loss: 4.2620 - val_accuracy: 0.0382\n",
            "Epoch 15/30\n",
            "1563/1563 [==============================] - 6s 4ms/step - loss: 4.2685 - accuracy: 0.0392 - val_loss: 4.3766 - val_accuracy: 0.0357\n",
            "Epoch 16/30\n",
            "1563/1563 [==============================] - 6s 4ms/step - loss: 4.2747 - accuracy: 0.0379 - val_loss: 4.2826 - val_accuracy: 0.0375\n",
            "Epoch 17/30\n",
            "1563/1563 [==============================] - 6s 4ms/step - loss: 4.2746 - accuracy: 0.0372 - val_loss: 4.2534 - val_accuracy: 0.0375\n",
            "Epoch 18/30\n",
            "1563/1563 [==============================] - 6s 4ms/step - loss: 4.2696 - accuracy: 0.0388 - val_loss: 4.2997 - val_accuracy: 0.0393\n",
            "Epoch 19/30\n",
            "1563/1563 [==============================] - 6s 4ms/step - loss: 4.2611 - accuracy: 0.0395 - val_loss: 4.2741 - val_accuracy: 0.0392\n",
            "Epoch 20/30\n",
            "1563/1563 [==============================] - 6s 4ms/step - loss: 4.2697 - accuracy: 0.0388 - val_loss: 4.2606 - val_accuracy: 0.0404\n",
            "Epoch 21/30\n",
            "1563/1563 [==============================] - 6s 4ms/step - loss: 4.2593 - accuracy: 0.0395 - val_loss: 4.2751 - val_accuracy: 0.0385\n",
            "Epoch 22/30\n",
            "1563/1563 [==============================] - 6s 4ms/step - loss: 4.2746 - accuracy: 0.0384 - val_loss: 4.2994 - val_accuracy: 0.0368\n",
            "Epoch 23/30\n",
            "1563/1563 [==============================] - 6s 4ms/step - loss: 4.2762 - accuracy: 0.0375 - val_loss: 4.2913 - val_accuracy: 0.0348\n",
            "Epoch 24/30\n",
            "1563/1563 [==============================] - 6s 4ms/step - loss: 4.2771 - accuracy: 0.0371 - val_loss: 4.2760 - val_accuracy: 0.0379\n",
            "Epoch 25/30\n",
            "1563/1563 [==============================] - 6s 4ms/step - loss: 4.2638 - accuracy: 0.0383 - val_loss: 4.2646 - val_accuracy: 0.0397\n",
            "Epoch 26/30\n",
            "1563/1563 [==============================] - 6s 4ms/step - loss: 4.2624 - accuracy: 0.0394 - val_loss: 4.2356 - val_accuracy: 0.0379\n",
            "Epoch 27/30\n",
            "1563/1563 [==============================] - 6s 4ms/step - loss: 4.2586 - accuracy: 0.0379 - val_loss: 4.2571 - val_accuracy: 0.0395\n",
            "Epoch 28/30\n",
            "1563/1563 [==============================] - 6s 4ms/step - loss: 4.2483 - accuracy: 0.0418 - val_loss: 4.2323 - val_accuracy: 0.0404\n",
            "Epoch 29/30\n",
            "1563/1563 [==============================] - 6s 4ms/step - loss: 4.2786 - accuracy: 0.0392 - val_loss: 4.2546 - val_accuracy: 0.0402\n",
            "Epoch 30/30\n",
            "1563/1563 [==============================] - 6s 4ms/step - loss: 4.2525 - accuracy: 0.0405 - val_loss: 4.2751 - val_accuracy: 0.0391\n"
          ],
          "name": "stdout"
        }
      ]
    },
    {
      "cell_type": "code",
      "metadata": {
        "id": "wq09aGCzserC",
        "outputId": "5832b7b1-f431-4a19-9498-6fdca244e6c9",
        "colab": {
          "base_uri": "https://localhost:8080/",
          "height": 545
        }
      },
      "source": [
        "import matplotlib.pyplot as plt\n",
        "acc = history.history['accuracy']\n",
        "val_acc = history.history['val_accuracy']\n",
        "loss = history.history['loss']\n",
        "val_loss = history.history['val_loss']\n",
        "\n",
        "epochs = range(len(acc))\n",
        "\n",
        "plt.plot(epochs, acc, 'bo', label='Training accuracy')\n",
        "plt.plot(epochs, val_acc, 'b', label='Validation accuracy')\n",
        "plt.title('Training and validation accuracy')\n",
        "plt.legend()\n",
        "\n",
        "plt.figure()\n",
        "\n",
        "plt.plot(epochs, loss, 'bo', label='Training Loss')\n",
        "plt.plot(epochs, val_loss, 'b', label='Validation Loss')\n",
        "plt.title('Training and validation loss')\n",
        "plt.legend()\n",
        "\n",
        "plt.show()"
      ],
      "execution_count": 4,
      "outputs": [
        {
          "output_type": "display_data",
          "data": {
            "image/png": "[encoded data removed]",
            "text/plain": [
              "<Figure size 432x288 with 1 Axes>"
            ]
          },
          "metadata": {
            "tags": [],
            "needs_background": "light"
          }
        },
        {
          "output_type": "display_data",
          "data": {
            "image/png": "[encoded data removed]",
            "text/plain": [
              "<Figure size 432x288 with 1 Axes>"
            ]
          },
          "metadata": {
            "tags": [],
            "needs_background": "light"
          }
        }
      ]
    },
    {
      "cell_type": "markdown",
      "metadata": {
        "id": "shn_9RoDtiHW"
      },
      "source": [
        "# Hyperparameter Tuning"
      ]
    },
    {
      "cell_type": "code",
      "metadata": {
        "id": "Q_u03lBHtf6C",
        "outputId": "7baa7541-26ce-4378-a863-7f0974706ab6",
        "colab": {
          "base_uri": "https://localhost:8080/"
        }
      },
      "source": [
        "from keras.models import Sequential                         \n",
        "from keras.layers import Dense, Dropout, Activation, Flatten,Conv2D,MaxPooling2D\n",
        "from keras.utils import to_categorical\n",
        "from keras.callbacks import ModelCheckpoint, EarlyStopping\n",
        "from keras.optimizers import SGD, Adam, RMSprop\n",
        "\n",
        "model_sgd = Sequential()\n",
        "model_sgd.add(Conv2D(32,(3,3),activation='relu',kernel_initializer='he_uniform',padding='same',input_shape=(32,32,3)))\n",
        "model_sgd.add(Conv2D(32,(3,3),activation='relu',kernel_initializer='he_uniform',padding='same'))\n",
        "model_sgd.add(MaxPooling2D((2,2)))\n",
        "model_sgd.add(Dropout(0.1))\n",
        "model_sgd.add(Conv2D(64,(3,3),activation='relu',kernel_initializer='he_uniform',padding='same'))\n",
        "model_sgd.add(Conv2D(64,(3,3),activation='relu',kernel_initializer='he_uniform',padding='same'))\n",
        "model_sgd.add(MaxPooling2D((2,2)))\n",
        "model_sgd.add(Dropout(0.1))\n",
        "model_sgd.add(Conv2D(128,(3,3),activation='relu',kernel_initializer='he_uniform',padding='same'))\n",
        "model_sgd.add(Conv2D(128,(3,3),activation='relu',kernel_initializer='he_uniform',padding='same'))\n",
        "model_sgd.add(MaxPooling2D((2,2)))\n",
        "model_sgd.add(Dropout(0.1))\n",
        "model_sgd.add(Flatten())\n",
        "model_sgd.add(Dense(128,activation='relu',kernel_initializer='he_uniform'))\n",
        "model_sgd.add(Dropout(0.1))\n",
        "model_sgd.add(Dense(100,activation='softmax'))\n",
        "\n",
        "\n",
        "opt = SGD(lr=0.001, momentum=0.9)\n",
        "#model_sgd.compile(optimizer=opt, loss='categorical_crossentropy', metrics=['accuracy'])\n",
        "#initial_learning_rate=0.01\n",
        "#lr_schedule=tf.keras.optimizers.schedules.ExponentialDecay(initial_learning_rate,decay_steps=100000,decay_rate=0.96,staircase=True)\n",
        "#tf.keras.optimizers.SGD(learning_rate=lr_schedule)\n",
        "model_sgd.compile(optimizer=opt,loss=tf.keras.losses.SparseCategoricalCrossentropy(from_logits=True),metrics=['accuracy'])\n",
        "\n",
        "history_sgd=model_sgd.fit(X_train,y_train,epochs=100,batch_size=64,validation_data=(X_test,y_test),verbose=1)"
      ],
      "execution_count": 5,
      "outputs": [
        {
          "output_type": "stream",
          "text": [
            "Epoch 1/100\n",
            "782/782 [==============================] - 5s 6ms/step - loss: 4.6051 - accuracy: 0.0106 - val_loss: 4.6046 - val_accuracy: 0.0117\n",
            "Epoch 2/100\n",
            "782/782 [==============================] - 5s 6ms/step - loss: 4.6032 - accuracy: 0.0118 - val_loss: 4.6021 - val_accuracy: 0.0111\n",
            "Epoch 3/100\n",
            "782/782 [==============================] - 5s 6ms/step - loss: 4.6012 - accuracy: 0.0159 - val_loss: 4.6001 - val_accuracy: 0.0175\n",
            "Epoch 4/100\n",
            "782/782 [==============================] - 5s 6ms/step - loss: 4.5988 - accuracy: 0.0198 - val_loss: 4.5956 - val_accuracy: 0.0254\n",
            "Epoch 5/100\n",
            "782/782 [==============================] - 5s 6ms/step - loss: 4.5954 - accuracy: 0.0251 - val_loss: 4.5905 - val_accuracy: 0.0344\n",
            "Epoch 6/100\n",
            "782/782 [==============================] - 5s 6ms/step - loss: 4.5894 - accuracy: 0.0322 - val_loss: 4.5857 - val_accuracy: 0.0345\n",
            "Epoch 7/100\n",
            "782/782 [==============================] - 5s 6ms/step - loss: 4.5847 - accuracy: 0.0371 - val_loss: 4.5813 - val_accuracy: 0.0390\n",
            "Epoch 8/100\n",
            "782/782 [==============================] - 5s 6ms/step - loss: 4.5812 - accuracy: 0.0407 - val_loss: 4.5790 - val_accuracy: 0.0415\n",
            "Epoch 9/100\n",
            "782/782 [==============================] - 5s 6ms/step - loss: 4.5791 - accuracy: 0.0422 - val_loss: 4.5784 - val_accuracy: 0.0412\n",
            "Epoch 10/100\n",
            "782/782 [==============================] - 5s 6ms/step - loss: 4.5776 - accuracy: 0.0438 - val_loss: 4.5750 - val_accuracy: 0.0470\n",
            "Epoch 11/100\n",
            "782/782 [==============================] - 5s 6ms/step - loss: 4.5757 - accuracy: 0.0457 - val_loss: 4.5752 - val_accuracy: 0.0467\n",
            "Epoch 12/100\n",
            "782/782 [==============================] - 5s 6ms/step - loss: 4.5746 - accuracy: 0.0475 - val_loss: 4.5729 - val_accuracy: 0.0490\n",
            "Epoch 13/100\n",
            "782/782 [==============================] - 5s 6ms/step - loss: 4.5732 - accuracy: 0.0480 - val_loss: 4.5709 - val_accuracy: 0.0500\n",
            "Epoch 14/100\n",
            "782/782 [==============================] - 5s 6ms/step - loss: 4.5701 - accuracy: 0.0514 - val_loss: 4.5687 - val_accuracy: 0.0525\n",
            "Epoch 15/100\n",
            "782/782 [==============================] - 5s 6ms/step - loss: 4.5679 - accuracy: 0.0543 - val_loss: 4.5667 - val_accuracy: 0.0543\n",
            "Epoch 16/100\n",
            "782/782 [==============================] - 5s 6ms/step - loss: 4.5664 - accuracy: 0.0552 - val_loss: 4.5651 - val_accuracy: 0.0551\n",
            "Epoch 17/100\n",
            "782/782 [==============================] - 5s 6ms/step - loss: 4.5649 - accuracy: 0.0569 - val_loss: 4.5629 - val_accuracy: 0.0581\n",
            "Epoch 18/100\n",
            "782/782 [==============================] - 5s 6ms/step - loss: 4.5638 - accuracy: 0.0577 - val_loss: 4.5639 - val_accuracy: 0.0563\n",
            "Epoch 19/100\n",
            "782/782 [==============================] - 5s 6ms/step - loss: 4.5630 - accuracy: 0.0588 - val_loss: 4.5607 - val_accuracy: 0.0615\n",
            "Epoch 20/100\n",
            "782/782 [==============================] - 5s 6ms/step - loss: 4.5618 - accuracy: 0.0596 - val_loss: 4.5601 - val_accuracy: 0.0608\n",
            "Epoch 21/100\n",
            "782/782 [==============================] - 5s 6ms/step - loss: 4.5592 - accuracy: 0.0628 - val_loss: 4.5568 - val_accuracy: 0.0655\n",
            "Epoch 22/100\n",
            "782/782 [==============================] - 5s 6ms/step - loss: 4.5582 - accuracy: 0.0642 - val_loss: 4.5547 - val_accuracy: 0.0679\n",
            "Epoch 23/100\n",
            "782/782 [==============================] - 5s 6ms/step - loss: 4.5553 - accuracy: 0.0668 - val_loss: 4.5529 - val_accuracy: 0.0692\n",
            "Epoch 24/100\n",
            "782/782 [==============================] - 5s 6ms/step - loss: 4.5537 - accuracy: 0.0686 - val_loss: 4.5501 - val_accuracy: 0.0725\n",
            "Epoch 25/100\n",
            "782/782 [==============================] - 5s 6ms/step - loss: 4.5522 - accuracy: 0.0694 - val_loss: 4.5511 - val_accuracy: 0.0722\n",
            "Epoch 26/100\n",
            "782/782 [==============================] - 5s 6ms/step - loss: 4.5512 - accuracy: 0.0702 - val_loss: 4.5504 - val_accuracy: 0.0720\n",
            "Epoch 27/100\n",
            "782/782 [==============================] - 5s 6ms/step - loss: 4.5493 - accuracy: 0.0727 - val_loss: 4.5492 - val_accuracy: 0.0737\n",
            "Epoch 28/100\n",
            "782/782 [==============================] - 5s 6ms/step - loss: 4.5479 - accuracy: 0.0745 - val_loss: 4.5483 - val_accuracy: 0.0750\n",
            "Epoch 29/100\n",
            "782/782 [==============================] - 5s 6ms/step - loss: 4.5462 - accuracy: 0.0767 - val_loss: 4.5463 - val_accuracy: 0.0752\n",
            "Epoch 30/100\n",
            "782/782 [==============================] - 5s 6ms/step - loss: 4.5477 - accuracy: 0.0744 - val_loss: 4.5471 - val_accuracy: 0.0743\n",
            "Epoch 31/100\n",
            "782/782 [==============================] - 5s 6ms/step - loss: 4.5454 - accuracy: 0.0767 - val_loss: 4.5421 - val_accuracy: 0.0810\n",
            "Epoch 32/100\n",
            "782/782 [==============================] - 5s 6ms/step - loss: 4.5452 - accuracy: 0.0770 - val_loss: 4.5443 - val_accuracy: 0.0791\n",
            "Epoch 33/100\n",
            "782/782 [==============================] - 5s 6ms/step - loss: 4.5443 - accuracy: 0.0778 - val_loss: 4.5442 - val_accuracy: 0.0780\n",
            "Epoch 34/100\n",
            "782/782 [==============================] - 5s 6ms/step - loss: 4.5432 - accuracy: 0.0790 - val_loss: 4.5465 - val_accuracy: 0.0749\n",
            "Epoch 35/100\n",
            "782/782 [==============================] - 5s 6ms/step - loss: 4.5426 - accuracy: 0.0798 - val_loss: 4.5411 - val_accuracy: 0.0818\n",
            "Epoch 36/100\n",
            "782/782 [==============================] - 5s 6ms/step - loss: 4.5422 - accuracy: 0.0799 - val_loss: 4.5413 - val_accuracy: 0.0811\n",
            "Epoch 37/100\n",
            "782/782 [==============================] - 5s 6ms/step - loss: 4.5416 - accuracy: 0.0807 - val_loss: 4.5406 - val_accuracy: 0.0816\n",
            "Epoch 38/100\n",
            "782/782 [==============================] - 5s 6ms/step - loss: 4.5408 - accuracy: 0.0819 - val_loss: 4.5389 - val_accuracy: 0.0834\n",
            "Epoch 39/100\n",
            "782/782 [==============================] - 5s 6ms/step - loss: 4.5409 - accuracy: 0.0805 - val_loss: 4.5407 - val_accuracy: 0.0819\n",
            "Epoch 40/100\n",
            "782/782 [==============================] - 5s 6ms/step - loss: 4.5398 - accuracy: 0.0825 - val_loss: 4.5395 - val_accuracy: 0.0831\n",
            "Epoch 41/100\n",
            "782/782 [==============================] - 5s 6ms/step - loss: 4.5385 - accuracy: 0.0836 - val_loss: 4.5395 - val_accuracy: 0.0826\n",
            "Epoch 42/100\n",
            "782/782 [==============================] - 5s 6ms/step - loss: 4.5377 - accuracy: 0.0845 - val_loss: 4.5389 - val_accuracy: 0.0820\n",
            "Epoch 43/100\n",
            "782/782 [==============================] - 5s 6ms/step - loss: 4.5379 - accuracy: 0.0842 - val_loss: 4.5412 - val_accuracy: 0.0804\n",
            "Epoch 44/100\n",
            "782/782 [==============================] - 5s 6ms/step - loss: 4.5374 - accuracy: 0.0846 - val_loss: 4.5409 - val_accuracy: 0.0808\n",
            "Epoch 45/100\n",
            "782/782 [==============================] - 5s 6ms/step - loss: 4.5362 - accuracy: 0.0861 - val_loss: 4.5356 - val_accuracy: 0.0873\n",
            "Epoch 46/100\n",
            "782/782 [==============================] - 5s 6ms/step - loss: 4.5354 - accuracy: 0.0869 - val_loss: 4.5360 - val_accuracy: 0.0864\n",
            "Epoch 47/100\n",
            "782/782 [==============================] - 5s 6ms/step - loss: 4.5353 - accuracy: 0.0874 - val_loss: 4.5345 - val_accuracy: 0.0875\n",
            "Epoch 48/100\n",
            "782/782 [==============================] - 5s 6ms/step - loss: 4.5348 - accuracy: 0.0876 - val_loss: 4.5374 - val_accuracy: 0.0841\n",
            "Epoch 49/100\n",
            "782/782 [==============================] - 5s 6ms/step - loss: 4.5339 - accuracy: 0.0883 - val_loss: 4.5322 - val_accuracy: 0.0902\n",
            "Epoch 50/100\n",
            "782/782 [==============================] - 5s 6ms/step - loss: 4.5333 - accuracy: 0.0887 - val_loss: 4.5358 - val_accuracy: 0.0865\n",
            "Epoch 51/100\n",
            "782/782 [==============================] - 5s 6ms/step - loss: 4.5322 - accuracy: 0.0906 - val_loss: 4.5316 - val_accuracy: 0.0909\n",
            "Epoch 52/100\n",
            "782/782 [==============================] - 5s 6ms/step - loss: 4.5315 - accuracy: 0.0909 - val_loss: 4.5329 - val_accuracy: 0.0885\n",
            "Epoch 53/100\n",
            "782/782 [==============================] - 5s 7ms/step - loss: 4.5313 - accuracy: 0.0908 - val_loss: 4.5336 - val_accuracy: 0.0885\n",
            "Epoch 54/100\n",
            "782/782 [==============================] - 5s 7ms/step - loss: 4.5299 - accuracy: 0.0925 - val_loss: 4.5335 - val_accuracy: 0.0885\n",
            "Epoch 55/100\n",
            "782/782 [==============================] - 5s 6ms/step - loss: 4.5302 - accuracy: 0.0922 - val_loss: 4.5329 - val_accuracy: 0.0903\n",
            "Epoch 56/100\n",
            "782/782 [==============================] - 5s 6ms/step - loss: 4.5293 - accuracy: 0.0932 - val_loss: 4.5295 - val_accuracy: 0.0934\n",
            "Epoch 57/100\n",
            "782/782 [==============================] - 5s 6ms/step - loss: 4.5288 - accuracy: 0.0938 - val_loss: 4.5331 - val_accuracy: 0.0890\n",
            "Epoch 58/100\n",
            "782/782 [==============================] - 5s 6ms/step - loss: 4.5284 - accuracy: 0.0939 - val_loss: 4.5292 - val_accuracy: 0.0933\n",
            "Epoch 59/100\n",
            "782/782 [==============================] - 5s 6ms/step - loss: 4.5276 - accuracy: 0.0948 - val_loss: 4.5282 - val_accuracy: 0.0953\n",
            "Epoch 60/100\n",
            "782/782 [==============================] - 5s 6ms/step - loss: 4.5268 - accuracy: 0.0959 - val_loss: 4.5302 - val_accuracy: 0.0918\n",
            "Epoch 61/100\n",
            "782/782 [==============================] - 5s 6ms/step - loss: 4.5260 - accuracy: 0.0969 - val_loss: 4.5292 - val_accuracy: 0.0934\n",
            "Epoch 62/100\n",
            "782/782 [==============================] - 5s 6ms/step - loss: 4.5260 - accuracy: 0.0967 - val_loss: 4.5283 - val_accuracy: 0.0924\n",
            "Epoch 63/100\n",
            "782/782 [==============================] - 5s 6ms/step - loss: 4.5250 - accuracy: 0.0976 - val_loss: 4.5254 - val_accuracy: 0.0964\n",
            "Epoch 64/100\n",
            "782/782 [==============================] - 5s 6ms/step - loss: 4.5247 - accuracy: 0.0980 - val_loss: 4.5300 - val_accuracy: 0.0922\n",
            "Epoch 65/100\n",
            "782/782 [==============================] - 5s 6ms/step - loss: 4.5233 - accuracy: 0.0991 - val_loss: 4.5262 - val_accuracy: 0.0958\n",
            "Epoch 66/100\n",
            "782/782 [==============================] - 5s 6ms/step - loss: 4.5237 - accuracy: 0.0987 - val_loss: 4.5236 - val_accuracy: 0.0985\n",
            "Epoch 67/100\n",
            "782/782 [==============================] - 5s 6ms/step - loss: 4.5224 - accuracy: 0.1002 - val_loss: 4.5246 - val_accuracy: 0.0984\n",
            "Epoch 68/100\n",
            "782/782 [==============================] - 5s 6ms/step - loss: 4.5214 - accuracy: 0.1014 - val_loss: 4.5225 - val_accuracy: 0.0987\n",
            "Epoch 69/100\n",
            "782/782 [==============================] - 5s 6ms/step - loss: 4.5208 - accuracy: 0.1021 - val_loss: 4.5225 - val_accuracy: 0.0997\n",
            "Epoch 70/100\n",
            "782/782 [==============================] - 5s 6ms/step - loss: 4.5198 - accuracy: 0.1028 - val_loss: 4.5235 - val_accuracy: 0.0995\n",
            "Epoch 71/100\n",
            "782/782 [==============================] - 5s 6ms/step - loss: 4.5193 - accuracy: 0.1032 - val_loss: 4.5214 - val_accuracy: 0.1010\n",
            "Epoch 72/100\n",
            "782/782 [==============================] - 5s 6ms/step - loss: 4.5193 - accuracy: 0.1035 - val_loss: 4.5202 - val_accuracy: 0.1022\n",
            "Epoch 73/100\n",
            "782/782 [==============================] - 5s 6ms/step - loss: 4.5180 - accuracy: 0.1047 - val_loss: 4.5202 - val_accuracy: 0.1015\n",
            "Epoch 74/100\n",
            "782/782 [==============================] - 5s 6ms/step - loss: 4.5178 - accuracy: 0.1044 - val_loss: 4.5199 - val_accuracy: 0.1021\n",
            "Epoch 75/100\n",
            "782/782 [==============================] - 5s 6ms/step - loss: 4.5171 - accuracy: 0.1050 - val_loss: 4.5182 - val_accuracy: 0.1032\n",
            "Epoch 76/100\n",
            "782/782 [==============================] - 5s 6ms/step - loss: 4.5167 - accuracy: 0.1058 - val_loss: 4.5176 - val_accuracy: 0.1051\n",
            "Epoch 77/100\n",
            "782/782 [==============================] - 5s 6ms/step - loss: 4.5144 - accuracy: 0.1084 - val_loss: 4.5155 - val_accuracy: 0.1059\n",
            "Epoch 78/100\n",
            "782/782 [==============================] - 5s 6ms/step - loss: 4.5119 - accuracy: 0.1110 - val_loss: 4.5145 - val_accuracy: 0.1071\n",
            "Epoch 79/100\n",
            "782/782 [==============================] - 5s 6ms/step - loss: 4.5104 - accuracy: 0.1122 - val_loss: 4.5127 - val_accuracy: 0.1100\n",
            "Epoch 80/100\n",
            "782/782 [==============================] - 5s 6ms/step - loss: 4.5091 - accuracy: 0.1137 - val_loss: 4.5117 - val_accuracy: 0.1106\n",
            "Epoch 81/100\n",
            "782/782 [==============================] - 5s 6ms/step - loss: 4.5079 - accuracy: 0.1146 - val_loss: 4.5100 - val_accuracy: 0.1115\n",
            "Epoch 82/100\n",
            "782/782 [==============================] - 5s 6ms/step - loss: 4.5073 - accuracy: 0.1156 - val_loss: 4.5111 - val_accuracy: 0.1111\n",
            "Epoch 83/100\n",
            "782/782 [==============================] - 5s 6ms/step - loss: 4.5064 - accuracy: 0.1165 - val_loss: 4.5128 - val_accuracy: 0.1100\n",
            "Epoch 84/100\n",
            "782/782 [==============================] - 5s 6ms/step - loss: 4.5058 - accuracy: 0.1165 - val_loss: 4.5100 - val_accuracy: 0.1124\n",
            "Epoch 85/100\n",
            "782/782 [==============================] - 5s 6ms/step - loss: 4.5051 - accuracy: 0.1174 - val_loss: 4.5076 - val_accuracy: 0.1151\n",
            "Epoch 86/100\n",
            "782/782 [==============================] - 5s 6ms/step - loss: 4.5046 - accuracy: 0.1180 - val_loss: 4.5103 - val_accuracy: 0.1121\n",
            "Epoch 87/100\n",
            "782/782 [==============================] - 5s 6ms/step - loss: 4.5037 - accuracy: 0.1190 - val_loss: 4.5100 - val_accuracy: 0.1118\n",
            "Epoch 88/100\n",
            "782/782 [==============================] - 5s 6ms/step - loss: 4.5037 - accuracy: 0.1192 - val_loss: 4.5082 - val_accuracy: 0.1138\n",
            "Epoch 89/100\n",
            "782/782 [==============================] - 5s 6ms/step - loss: 4.5021 - accuracy: 0.1208 - val_loss: 4.5053 - val_accuracy: 0.1171\n",
            "Epoch 90/100\n",
            "782/782 [==============================] - 5s 6ms/step - loss: 4.5011 - accuracy: 0.1217 - val_loss: 4.5061 - val_accuracy: 0.1154\n",
            "Epoch 91/100\n",
            "782/782 [==============================] - 5s 6ms/step - loss: 4.4999 - accuracy: 0.1230 - val_loss: 4.5047 - val_accuracy: 0.1182\n",
            "Epoch 92/100\n",
            "782/782 [==============================] - 5s 6ms/step - loss: 4.4992 - accuracy: 0.1238 - val_loss: 4.5038 - val_accuracy: 0.1184\n",
            "Epoch 93/100\n",
            "782/782 [==============================] - 5s 6ms/step - loss: 4.4988 - accuracy: 0.1239 - val_loss: 4.5032 - val_accuracy: 0.1177\n",
            "Epoch 94/100\n",
            "782/782 [==============================] - 5s 6ms/step - loss: 4.4975 - accuracy: 0.1251 - val_loss: 4.5034 - val_accuracy: 0.1190\n",
            "Epoch 95/100\n",
            "782/782 [==============================] - 5s 6ms/step - loss: 4.4974 - accuracy: 0.1256 - val_loss: 4.5039 - val_accuracy: 0.1181\n",
            "Epoch 96/100\n",
            "782/782 [==============================] - 5s 6ms/step - loss: 4.4968 - accuracy: 0.1260 - val_loss: 4.5020 - val_accuracy: 0.1200\n",
            "Epoch 97/100\n",
            "782/782 [==============================] - 5s 6ms/step - loss: 4.4965 - accuracy: 0.1263 - val_loss: 4.5052 - val_accuracy: 0.1173\n",
            "Epoch 98/100\n",
            "782/782 [==============================] - 5s 6ms/step - loss: 4.4944 - accuracy: 0.1284 - val_loss: 4.5011 - val_accuracy: 0.1207\n",
            "Epoch 99/100\n",
            "782/782 [==============================] - 5s 6ms/step - loss: 4.4940 - accuracy: 0.1287 - val_loss: 4.5008 - val_accuracy: 0.1207\n",
            "Epoch 100/100\n",
            "782/782 [==============================] - 5s 6ms/step - loss: 4.4942 - accuracy: 0.1286 - val_loss: 4.4996 - val_accuracy: 0.1229\n"
          ],
          "name": "stdout"
        }
      ]
    },
    {
      "cell_type": "code",
      "metadata": {
        "id": "oCVYlXo1tnZ9",
        "outputId": "8af6121d-5903-4d8b-db3d-b62171227cf7",
        "colab": {
          "base_uri": "https://localhost:8080/",
          "height": 545
        }
      },
      "source": [
        "import matplotlib.pyplot as plt\n",
        "acc = history_sgd.history['accuracy']\n",
        "val_acc = history_sgd.history['val_accuracy']\n",
        "loss = history_sgd.history['loss']\n",
        "val_loss = history_sgd.history['val_loss']\n",
        "\n",
        "epochs = range(len(acc))\n",
        "\n",
        "plt.plot(epochs, acc, 'bo', label='Training accuracy')\n",
        "plt.plot(epochs, val_acc, 'b', label='Validation accuracy')\n",
        "plt.title('Training and validation accuracy')\n",
        "plt.legend()\n",
        "\n",
        "plt.figure()\n",
        "\n",
        "plt.plot(epochs, loss, 'bo', label='Training Loss')\n",
        "plt.plot(epochs, val_loss, 'b', label='Validation Loss')\n",
        "plt.title('Training and validation loss')\n",
        "plt.legend()\n",
        "\n",
        "plt.show()"
      ],
      "execution_count": 6,
      "outputs": [
        {
          "output_type": "display_data",
          "data": {
            "image/png": "[encoded data removed]",
            "text/plain": [
              "<Figure size 432x288 with 1 Axes>"
            ]
          },
          "metadata": {
            "tags": [],
            "needs_background": "light"
          }
        },
        {
          "output_type": "display_data",
          "data": {
            "image/png": "[encoded data removed]",
            "text/plain": [
              "<Figure size 432x288 with 1 Axes>"
            ]
          },
          "metadata": {
            "tags": [],
            "needs_background": "light"
          }
        }
      ]
    },
    {
      "cell_type": "code",
      "metadata": {
        "id": "IvXrsks5jLQp"
      },
      "source": [
        ""
      ],
      "execution_count": 6,
      "outputs": []
    }
  ]
}