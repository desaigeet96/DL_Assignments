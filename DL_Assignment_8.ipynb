{
  "nbformat": 4,
  "nbformat_minor": 0,
  "metadata": {
    "colab": {
      "name": "DL_Assignment_8.ipynb",
      "provenance": [],
      "collapsed_sections": [],
      "toc_visible": true,
      "include_colab_link": true
    },
    "kernelspec": {
      "name": "python3",
      "display_name": "Python 3"
    },
    "accelerator": "GPU"
  },
  "cells": [
    {
      "cell_type": "markdown",
      "metadata": {
        "id": "view-in-github",
        "colab_type": "text"
      },
      "source": [
        "<a href=\"https://colab.research.google.com/github/desaigeet96/DL_Assignments/blob/main/DL_Assignment_8.ipynb\" target=\"_parent\"><img src=\"https://colab.research.google.com/assets/colab-badge.svg\" alt=\"Open In Colab\"/></a>"
      ]
    },
    {
      "cell_type": "code",
      "metadata": {
        "id": "p6LAi8dsfBN7"
      },
      "source": [
        "from bs4 import BeautifulSoup\n",
        "import numpy as np\n",
        "import requests\n",
        "import cv2\n",
        "import PIL.Image\n",
        "import urllib\n",
        "import os\n",
        "import pandas as pd"
      ],
      "execution_count": 1,
      "outputs": []
    },
    {
      "cell_type": "markdown",
      "metadata": {
        "id": "2rNixw5V2--2"
      },
      "source": [
        "## Creating soups and url strings"
      ]
    },
    {
      "cell_type": "code",
      "metadata": {
        "id": "HdqWR0SB20Fq"
      },
      "source": [
        "ie_page = requests.get(\"http://www.image-net.org/api/text/imagenet.synset.geturls?wnid=n02504013\")    #indian elephant\n",
        "ie_soup = BeautifulSoup(ie_page.content, 'html.parser')   #puts the content of the website into the soup variable, each url on a different line\n"
      ],
      "execution_count": 2,
      "outputs": []
    },
    {
      "cell_type": "code",
      "metadata": {
        "id": "xv3GoErrf94t"
      },
      "source": [
        "ae_page = requests.get(\"http://www.image-net.org/api/text/imagenet.synset.geturls?wnid=n02504458\")    #african elephant synset\n",
        "ae_soup = BeautifulSoup(ae_page.content, 'html.parser')#puts the content of the website into the soup variable, each url on a different line"
      ],
      "execution_count": 3,
      "outputs": []
    },
    {
      "cell_type": "code",
      "metadata": {
        "id": "ps1-uGC8gWiN"
      },
      "source": [
        "t_page = requests.get(\"http://www.image-net.org/api/text/imagenet.synset.geturls?wnid=n01871265\")   #tuskers synset\n",
        "t_soup = BeautifulSoup(t_page.content, 'html.parser')#puts the content of the website into the soup variable, each url on a different line"
      ],
      "execution_count": 4,
      "outputs": []
    },
    {
      "cell_type": "code",
      "metadata": {
        "id": "G9XB6ycyhEx7",
        "outputId": "3e0624eb-65ec-4447-803e-64e285badcd4",
        "colab": {
          "base_uri": "https://localhost:8080/"
        }
      },
      "source": [
        "ie_str_soup=str(ie_soup)    \n",
        "type(ie_str_soup)\n",
        "ie_split_urls=ie_str_soup.split('\\r\\n')     \n",
        "print(len(ie_split_urls))     \n"
      ],
      "execution_count": 8,
      "outputs": [
        {
          "output_type": "stream",
          "text": [
            "1650\n"
          ],
          "name": "stdout"
        }
      ]
    },
    {
      "cell_type": "code",
      "metadata": {
        "id": "rqoEELtK3KMB",
        "outputId": "31d527ce-45d7-4b35-de80-58ad115822bb",
        "colab": {
          "base_uri": "https://localhost:8080/"
        }
      },
      "source": [
        "ae_str_soup=str(ae_soup)      \n",
        "type(ae_str_soup)\n",
        "ae_split_urls=ae_str_soup.split('\\r\\n')     \n",
        "print(len(ae_split_urls))"
      ],
      "execution_count": 9,
      "outputs": [
        {
          "output_type": "stream",
          "text": [
            "2278\n"
          ],
          "name": "stdout"
        }
      ]
    },
    {
      "cell_type": "code",
      "metadata": {
        "id": "XHFnqREa3OzW",
        "outputId": "b197124f-25b6-49f9-d913-b102896eac1b",
        "colab": {
          "base_uri": "https://localhost:8080/"
        }
      },
      "source": [
        "t_str_soup=str(t_soup)      #convert soup to string so it can be split\n",
        "type(t_str_soup)\n",
        "t_split_urls=t_str_soup.split('\\r\\n')     #split so each url is a different possition on a list\n",
        "print(len(t_split_urls))"
      ],
      "execution_count": 10,
      "outputs": [
        {
          "output_type": "stream",
          "text": [
            "1065\n"
          ],
          "name": "stdout"
        }
      ]
    },
    {
      "cell_type": "markdown",
      "metadata": {
        "id": "AbyMiCOO3ZY9"
      },
      "source": [
        "## Making Directories"
      ]
    },
    {
      "cell_type": "code",
      "metadata": {
        "id": "5H0ZjtfOjKgE"
      },
      "source": [
        "#check if all the images where stored on the files system\n",
        "!mkdir /content/train #create the Train folder\n",
        "!mkdir /content/train/Indian_Elephant    #create the ie folder\n",
        "!mkdir /content/train/African_Alephant    #create the ae folder\n",
        "!mkdir /content/train/Tuskers    #create the t folder\n",
        "\n",
        "!mkdir /content/validation\n",
        "!mkdir /content/validation/Indian_Elephant #create the ie folder\n",
        "!mkdir /content/validation/African_Alephant #create the ae folder\n",
        "!mkdir /content/validation/Tuskers #create the t folder\n",
        "\n",
        "!mkdir /content/test/ \n",
        "!mkdir /content/test/test #list the files inside test"
      ],
      "execution_count": 11,
      "outputs": []
    },
    {
      "cell_type": "markdown",
      "metadata": {
        "id": "Sa1kK5NO3_l_"
      },
      "source": [
        "## Setting up Image parameter and fetching function"
      ]
    },
    {
      "cell_type": "code",
      "metadata": {
        "id": "4T6xVheljmVI"
      },
      "source": [
        "img_rows, img_cols = 32, 32     #number of rows and columns to convert the images to\n",
        "input_shape = (img_rows, img_cols, 3)   #format to store the images (rows, columns,channels) called channels last\n",
        "\n",
        "def url_to_image(url):\n",
        "\t# download the image, convert it to a NumPy array, and then read\n",
        "\t# it into OpenCV format\n",
        "\tresp = urllib.request.urlopen(url)\n",
        "\timage = np.asarray(bytearray(resp.read()), dtype=\"uint8\")\n",
        "\timage = cv2.imdecode(image, cv2.IMREAD_COLOR)\n",
        " \n",
        "\t# return the image\n",
        "\treturn image\n"
      ],
      "execution_count": 12,
      "outputs": []
    },
    {
      "cell_type": "markdown",
      "metadata": {
        "id": "AEgaqMts4H5P"
      },
      "source": [
        "## Storing Train Images"
      ]
    },
    {
      "cell_type": "code",
      "metadata": {
        "id": "2NpplKkZ4Fxg",
        "outputId": "53c79001-c8bd-425e-ad00-bacd4df72abb",
        "colab": {
          "base_uri": "https://localhost:8080/"
        }
      },
      "source": [
        "n_of_training_images=150    #the number of training images to use\n",
        "\n",
        "for progress in range(n_of_training_images):    #store all the images on a directory\n",
        "    # Print out progress whenever progress is a multiple of 20 so we can follow the\n",
        "    # (relatively slow) progress\n",
        "    if(progress%20==0):\n",
        "        print(progress)\n",
        "    if not ie_split_urls[progress] == None:\n",
        "      try:\n",
        "        I = url_to_image(ie_split_urls[progress])\n",
        "        if (len(I.shape))==3:    #check if the image has width, length and channels\n",
        "          save_path = '/content/train/Indian_Elephant/img'+str(progress)+'.jpg'      #create a name of each image\n",
        "          cv2.imwrite(save_path,I)\n",
        "\n",
        "      except:\n",
        "        None"
      ],
      "execution_count": 13,
      "outputs": [
        {
          "output_type": "stream",
          "text": [
            "0\n",
            "20\n",
            "40\n",
            "60\n",
            "80\n",
            "100\n",
            "120\n",
            "140\n"
          ],
          "name": "stdout"
        }
      ]
    },
    {
      "cell_type": "code",
      "metadata": {
        "id": "M3METs6K4P6F",
        "outputId": "dc6424f5-7729-479d-d974-b9836640e1a5",
        "colab": {
          "base_uri": "https://localhost:8080/"
        }
      },
      "source": [
        "#do the same for ae:\n",
        "for progress in range(n_of_training_images):#store all the images on a directory\n",
        "    # Print out progress whenever progress is a multiple of 20 so we can follow the\n",
        "    # (relatively slow) progress\n",
        "    if(progress%20==0):\n",
        "        print(progress)\n",
        "    if not ae_split_urls[progress] == None:\n",
        "      try:\n",
        "        I = url_to_image(ae_split_urls[progress])\n",
        "        if (len(I.shape))==3: #check if the image has width, length and channels\n",
        "          save_path = '/content/train/African_Alephant/img'+str(progress)+'.jpg'#create a name of each image\n",
        "          cv2.imwrite(save_path,I)\n",
        "\n",
        "      except:\n",
        "        None"
      ],
      "execution_count": 14,
      "outputs": [
        {
          "output_type": "stream",
          "text": [
            "0\n",
            "20\n",
            "40\n",
            "60\n",
            "80\n",
            "100\n",
            "120\n",
            "140\n"
          ],
          "name": "stdout"
        }
      ]
    },
    {
      "cell_type": "code",
      "metadata": {
        "id": "cxaRpd5q4f_M",
        "outputId": "4df6dcda-1125-455d-e2ad-b47ab1d0e5ae",
        "colab": {
          "base_uri": "https://localhost:8080/"
        }
      },
      "source": [
        "#do the same for t:\n",
        "for progress in range(n_of_training_images):#store all the images on a directory\n",
        "    # Print out progress whenever progress is a multiple of 20 so we can follow the\n",
        "    # (relatively slow) progress\n",
        "    if(progress%20==0):\n",
        "        print(progress)\n",
        "    if not t_split_urls[progress] == None:\n",
        "      try:\n",
        "        I = url_to_image(t_split_urls[progress])\n",
        "        if (len(I.shape))==3: #check if the image has width, length and channels\n",
        "          save_path = '/content/train/Tuskers/img'+str(progress)+'.jpg'#create a name of each image\n",
        "          cv2.imwrite(save_path,I)\n",
        "\n",
        "      except:\n",
        "        None"
      ],
      "execution_count": 15,
      "outputs": [
        {
          "output_type": "stream",
          "text": [
            "0\n",
            "20\n",
            "40\n",
            "60\n",
            "80\n",
            "100\n",
            "120\n",
            "140\n"
          ],
          "name": "stdout"
        }
      ]
    },
    {
      "cell_type": "markdown",
      "metadata": {
        "id": "HGmbc9CJ4lqB"
      },
      "source": [
        "## Storing Validation Images"
      ]
    },
    {
      "cell_type": "code",
      "metadata": {
        "id": "b1kb0vzr4kQa",
        "outputId": "f2e78523-cce6-47d9-8c09-cfcfdfc23767",
        "colab": {
          "base_uri": "https://localhost:8080/"
        }
      },
      "source": [
        "for progress in range(50):      #store all the images on a directory\n",
        "    # Print out progress whenever progress is a multiple of 10 so we can follow the\n",
        "    # (relatively slow) progress\n",
        "    if(progress%10==0):\n",
        "        print(progress)\n",
        "    if not ie_split_urls[n_of_training_images+progress] == None:\n",
        "      try:\n",
        "        I = url_to_image(ie_split_urls[n_of_training_images+progress])      #get images that are different from the ones used for training\n",
        "        if (len(I.shape))==3:       #check if the image has width, length and channels\n",
        "          save_path = '/content/validation/Indian_Elephant/img'+str(progress)+'.jpg'      #create a name of each image\n",
        "          cv2.imwrite(save_path,I)\n",
        "\n",
        "      except:\n",
        "        None"
      ],
      "execution_count": 16,
      "outputs": [
        {
          "output_type": "stream",
          "text": [
            "0\n",
            "10\n",
            "20\n",
            "30\n",
            "40\n"
          ],
          "name": "stdout"
        }
      ]
    },
    {
      "cell_type": "code",
      "metadata": {
        "id": "MZeoDSKe4r8O",
        "outputId": "4dabd7e5-8a42-481d-9278-b99c703930c5",
        "colab": {
          "base_uri": "https://localhost:8080/"
        }
      },
      "source": [
        "#do the same for ae:\n",
        "for progress in range(50):    #store all the images on a directory\n",
        "    # Print out progress whenever progress is a multiple of 10 so we can follow the\n",
        "    # (relatively slow) progress\n",
        "    if(progress%10==0):\n",
        "        print(progress)\n",
        "    if not ae_split_urls[n_of_training_images+progress] == None:\n",
        "      try:\n",
        "        I = url_to_image(ae_split_urls[n_of_training_images+progress])   #get images that are different from the ones used for training\n",
        "        if (len(I.shape))==3:     #check if the image has width, length and channels\n",
        "          save_path = '/content/validation/African_Alephant/img'+str(progress)+'.jpg'   #create a name of each image\n",
        "          cv2.imwrite(save_path,I)\n",
        "\n",
        "      except:\n",
        "        None"
      ],
      "execution_count": 17,
      "outputs": [
        {
          "output_type": "stream",
          "text": [
            "0\n",
            "10\n",
            "20\n",
            "30\n",
            "40\n"
          ],
          "name": "stdout"
        }
      ]
    },
    {
      "cell_type": "code",
      "metadata": {
        "id": "9ugPn4IA4wIQ",
        "outputId": "9dce7513-1438-4dad-f9e4-d4266c89f8f6",
        "colab": {
          "base_uri": "https://localhost:8080/"
        }
      },
      "source": [
        "#do the same for t:\n",
        "for progress in range(50):    #store all the images on a directory\n",
        "    # Print out progress whenever progress is a multiple of 10 so we can follow the\n",
        "    # (relatively slow) progress\n",
        "    if(progress%10==0):\n",
        "        print(progress)\n",
        "    if not t_split_urls[progress] == None:\n",
        "      try:\n",
        "        I = url_to_image(t_split_urls[n_of_training_images+progress])   #get images that are different from the ones used for training\n",
        "        if (len(I.shape))==3:       #check if the image has width, length and channels\n",
        "          save_path = '/content/validation/Tuskers/img'+str(progress)+'.jpg'    #create a name of each image\n",
        "          cv2.imwrite(save_path,I)\n",
        "\n",
        "      except:\n",
        "        None"
      ],
      "execution_count": 18,
      "outputs": [
        {
          "output_type": "stream",
          "text": [
            "0\n",
            "10\n",
            "20\n",
            "30\n",
            "40\n"
          ],
          "name": "stdout"
        }
      ]
    },
    {
      "cell_type": "code",
      "metadata": {
        "id": "74-1FU_Z4z-z",
        "outputId": "9b240c7c-102b-4a62-b7d9-55ef23a6d715",
        "colab": {
          "base_uri": "https://localhost:8080/"
        }
      },
      "source": [
        "print(\"\\nTRAIN:\\n\")          \n",
        "print(\"\\nlist the files inside Indian_Elephant directory:\\n\")        \n",
        "!ls /content/train/Indian_Elephant    #list the files inside ships\n",
        "print(\"\\nlist the files inside African_Alephant directory:\\n\")\n",
        "!ls /content/train/African_Alephant    #list the files inside bikes\n",
        "print(\"\\nlist the files inside Tuskers directory:\\n\")\n",
        "!ls /content/train/Tuskers    #list the files inside bikes\n",
        "\n",
        "\n",
        "print(\"\\nVALIDATION:\\n\")\n",
        "print(\"\\nlist the files inside Indian_Elephant directory:\\n\")        \n",
        "!ls /content/validation/Indian_Elephant     #list the files inside ships\n",
        "print(\"\\nlist the files inside African_Alephant directory:\\n\")\n",
        "!ls /content/validation/African_Alephant     #list the files inside bikes \n",
        "print(\"\\nlist the files inside Tuskers directory:\\n\")\n",
        "!ls /content/validation/Tuskers     #list the files inside bikes   "
      ],
      "execution_count": 19,
      "outputs": [
        {
          "output_type": "stream",
          "text": [
            "\n",
            "TRAIN:\n",
            "\n",
            "\n",
            "list the files inside Indian_Elephant directory:\n",
            "\n",
            "img0.jpg    img115.jpg\timg131.jpg  img25.jpg  img48.jpg  img70.jpg  img87.jpg\n",
            "img100.jpg  img117.jpg\timg133.jpg  img2.jpg   img51.jpg  img71.jpg  img88.jpg\n",
            "img103.jpg  img119.jpg\timg139.jpg  img30.jpg  img52.jpg  img74.jpg  img91.jpg\n",
            "img104.jpg  img11.jpg\timg145.jpg  img31.jpg  img54.jpg  img76.jpg  img92.jpg\n",
            "img105.jpg  img121.jpg\timg148.jpg  img35.jpg  img55.jpg  img77.jpg  img94.jpg\n",
            "img106.jpg  img122.jpg\timg15.jpg   img3.jpg   img57.jpg  img78.jpg  img95.jpg\n",
            "img107.jpg  img123.jpg\timg17.jpg   img41.jpg  img5.jpg   img79.jpg  img97.jpg\n",
            "img108.jpg  img125.jpg\timg18.jpg   img44.jpg  img60.jpg  img7.jpg   img98.jpg\n",
            "img110.jpg  img127.jpg\timg1.jpg    img45.jpg  img63.jpg  img80.jpg  img9.jpg\n",
            "img112.jpg  img12.jpg\timg20.jpg   img46.jpg  img64.jpg  img82.jpg\n",
            "img114.jpg  img130.jpg\timg22.jpg   img47.jpg  img65.jpg  img83.jpg\n",
            "\n",
            "list the files inside African_Alephant directory:\n",
            "\n",
            "img0.jpg    img125.jpg\timg144.jpg  img27.jpg  img46.jpg  img67.jpg  img82.jpg\n",
            "img101.jpg  img126.jpg\timg145.jpg  img28.jpg  img47.jpg  img68.jpg  img85.jpg\n",
            "img105.jpg  img127.jpg\timg146.jpg  img2.jpg   img49.jpg  img69.jpg  img86.jpg\n",
            "img106.jpg  img129.jpg\timg147.jpg  img30.jpg  img4.jpg   img6.jpg   img87.jpg\n",
            "img107.jpg  img12.jpg\timg149.jpg  img31.jpg  img50.jpg  img70.jpg  img8.jpg\n",
            "img108.jpg  img130.jpg\timg14.jpg   img32.jpg  img52.jpg  img71.jpg  img90.jpg\n",
            "img109.jpg  img131.jpg\timg17.jpg   img34.jpg  img54.jpg  img72.jpg  img92.jpg\n",
            "img112.jpg  img132.jpg\timg19.jpg   img35.jpg  img55.jpg  img73.jpg  img93.jpg\n",
            "img113.jpg  img134.jpg\timg1.jpg    img36.jpg  img58.jpg  img75.jpg  img95.jpg\n",
            "img115.jpg  img135.jpg\timg20.jpg   img37.jpg  img59.jpg  img76.jpg  img96.jpg\n",
            "img116.jpg  img137.jpg\timg21.jpg   img39.jpg  img5.jpg   img77.jpg  img97.jpg\n",
            "img119.jpg  img138.jpg\timg22.jpg   img3.jpg   img61.jpg  img78.jpg  img98.jpg\n",
            "img120.jpg  img13.jpg\timg23.jpg   img40.jpg  img62.jpg  img79.jpg  img99.jpg\n",
            "img121.jpg  img140.jpg\timg24.jpg   img41.jpg  img63.jpg  img7.jpg   img9.jpg\n",
            "img122.jpg  img142.jpg\timg25.jpg   img43.jpg  img64.jpg  img80.jpg\n",
            "img123.jpg  img143.jpg\timg26.jpg   img45.jpg  img65.jpg  img81.jpg\n",
            "\n",
            "list the files inside Tuskers directory:\n",
            "\n",
            "img0.jpg    img124.jpg\timg141.jpg  img27.jpg  img46.jpg  img73.jpg  img88.jpg\n",
            "img100.jpg  img125.jpg\timg142.jpg  img28.jpg  img49.jpg  img74.jpg  img89.jpg\n",
            "img101.jpg  img126.jpg\timg145.jpg  img29.jpg  img52.jpg  img75.jpg  img91.jpg\n",
            "img102.jpg  img127.jpg\timg148.jpg  img2.jpg   img53.jpg  img76.jpg  img92.jpg\n",
            "img105.jpg  img128.jpg\timg149.jpg  img32.jpg  img56.jpg  img77.jpg  img94.jpg\n",
            "img109.jpg  img12.jpg\timg14.jpg   img33.jpg  img57.jpg  img78.jpg  img95.jpg\n",
            "img110.jpg  img130.jpg\timg16.jpg   img34.jpg  img61.jpg  img79.jpg  img96.jpg\n",
            "img112.jpg  img131.jpg\timg17.jpg   img35.jpg  img62.jpg  img7.jpg   img97.jpg\n",
            "img114.jpg  img132.jpg\timg18.jpg   img36.jpg  img64.jpg  img81.jpg  img98.jpg\n",
            "img115.jpg  img134.jpg\timg19.jpg   img38.jpg  img65.jpg  img82.jpg  img99.jpg\n",
            "img118.jpg  img136.jpg\timg1.jpg    img39.jpg  img66.jpg  img83.jpg  img9.jpg\n",
            "img11.jpg   img137.jpg\timg21.jpg   img42.jpg  img69.jpg  img84.jpg\n",
            "img120.jpg  img139.jpg\timg23.jpg   img44.jpg  img6.jpg   img85.jpg\n",
            "img121.jpg  img13.jpg\timg24.jpg   img45.jpg  img71.jpg  img87.jpg\n",
            "\n",
            "VALIDATION:\n",
            "\n",
            "\n",
            "list the files inside Indian_Elephant directory:\n",
            "\n",
            "img0.jpg   img13.jpg  img20.jpg  img27.jpg  img34.jpg  img44.jpg  img5.jpg\n",
            "img10.jpg  img15.jpg  img22.jpg  img28.jpg  img38.jpg  img46.jpg  img6.jpg\n",
            "img11.jpg  img18.jpg  img24.jpg  img29.jpg  img3.jpg   img47.jpg  img7.jpg\n",
            "img12.jpg  img19.jpg  img25.jpg  img2.jpg   img42.jpg  img4.jpg   img9.jpg\n",
            "\n",
            "list the files inside African_Alephant directory:\n",
            "\n",
            "img0.jpg   img16.jpg  img24.jpg  img30.jpg  img39.jpg  img46.jpg  img9.jpg\n",
            "img10.jpg  img17.jpg  img25.jpg  img31.jpg  img3.jpg   img48.jpg\n",
            "img11.jpg  img19.jpg  img26.jpg  img33.jpg  img41.jpg  img49.jpg\n",
            "img12.jpg  img1.jpg   img27.jpg  img36.jpg  img43.jpg  img4.jpg\n",
            "img13.jpg  img21.jpg  img28.jpg  img37.jpg  img44.jpg  img5.jpg\n",
            "img15.jpg  img23.jpg  img29.jpg  img38.jpg  img45.jpg  img6.jpg\n",
            "\n",
            "list the files inside Tuskers directory:\n",
            "\n",
            "img10.jpg  img17.jpg  img23.jpg  img2.jpg   img38.jpg  img45.jpg  img6.jpg\n",
            "img11.jpg  img18.jpg  img24.jpg  img31.jpg  img39.jpg  img46.jpg  img8.jpg\n",
            "img12.jpg  img19.jpg  img26.jpg  img32.jpg  img40.jpg  img47.jpg  img9.jpg\n",
            "img14.jpg  img20.jpg  img27.jpg  img34.jpg  img41.jpg  img49.jpg\n",
            "img15.jpg  img21.jpg  img28.jpg  img36.jpg  img42.jpg  img4.jpg\n",
            "img16.jpg  img22.jpg  img29.jpg  img37.jpg  img43.jpg  img5.jpg\n"
          ],
          "name": "stdout"
        }
      ]
    },
    {
      "cell_type": "markdown",
      "metadata": {
        "id": "C7Nl3Ztt9qXo"
      },
      "source": [
        "## Modelling"
      ]
    },
    {
      "cell_type": "markdown",
      "metadata": {
        "id": "Fv4glaTQ-Aq1"
      },
      "source": [
        "### Resnet 50"
      ]
    },
    {
      "cell_type": "code",
      "metadata": {
        "id": "T7cxG8hp9r9Q"
      },
      "source": [
        "from keras.applications.resnet50 import ResNet50\n",
        "from keras.preprocessing import image\n",
        "from keras.applications.resnet50 import preprocess_input, decode_predictions\n",
        "from tensorflow.python.keras.models import Sequential\n",
        "from tensorflow.python.keras.layers import Dense\n",
        "from keras.preprocessing.image import ImageDataGenerator"
      ],
      "execution_count": 20,
      "outputs": []
    },
    {
      "cell_type": "code",
      "metadata": {
        "id": "AjOHa1_w-EpZ",
        "outputId": "a6f17c6b-9fe5-43b2-d7d0-dc6e0f8573e6",
        "colab": {
          "base_uri": "https://localhost:8080/"
        }
      },
      "source": [
        "resnet_50_model = ResNet50(weights='imagenet')"
      ],
      "execution_count": 21,
      "outputs": [
        {
          "output_type": "stream",
          "text": [
            "Downloading data from https://storage.googleapis.com/tensorflow/keras-applications/resnet/resnet50_weights_tf_dim_ordering_tf_kernels.h5\n",
            "102973440/102967424 [==============================] - 2s 0us/step\n"
          ],
          "name": "stdout"
        }
      ]
    },
    {
      "cell_type": "code",
      "metadata": {
        "id": "MH2jUEJ_-NlR"
      },
      "source": [
        "NUM_CLASSES = 3\n",
        "CHANNELS = 3\n",
        "IMAGE_RESIZE = 224\n",
        "RESNET50_POOLING_AVERAGE = 'avg'\n",
        "DENSE_LAYER_ACTIVATION = 'softmax'\n",
        "OBJECTIVE_FUNCTION = 'categorical_crossentropy'\n",
        "\n",
        "LOSS_METRICS = ['accuracy']\n",
        "NUM_EPOCHS = 20\n",
        "EARLY_STOP_PATIENCE = 3\n",
        "STEPS_PER_EPOCH_TRAINING = 10\n",
        "STEPS_PER_EPOCH_VALIDATION = 10\n",
        "\n",
        "BATCH_SIZE_TRAINING = 100\n",
        "BATCH_SIZE_VALIDATION = 100"
      ],
      "execution_count": 22,
      "outputs": []
    },
    {
      "cell_type": "code",
      "metadata": {
        "id": "3ledyQwhFjXY",
        "outputId": "3fdf2bc0-d0d2-4164-f5dc-4487bccf502a",
        "colab": {
          "base_uri": "https://localhost:8080/"
        }
      },
      "source": [
        "custom_model = Sequential()\n",
        "custom_model.add(ResNet50(include_top = False, pooling = RESNET50_POOLING_AVERAGE, weights = \"imagenet\"))\n",
        "custom_model.add(Dense(NUM_CLASSES, activation = DENSE_LAYER_ACTIVATION))\n",
        "custom_model.layers[0].trainable = False"
      ],
      "execution_count": 23,
      "outputs": [
        {
          "output_type": "stream",
          "text": [
            "Downloading data from https://storage.googleapis.com/tensorflow/keras-applications/resnet/resnet50_weights_tf_dim_ordering_tf_kernels_notop.h5\n",
            "94773248/94765736 [==============================] - 2s 0us/step\n"
          ],
          "name": "stdout"
        }
      ]
    },
    {
      "cell_type": "code",
      "metadata": {
        "id": "NdCVSfj8F_ox",
        "outputId": "3ea4df69-eb48-4ce8-f4dd-dd9853de01c4",
        "colab": {
          "base_uri": "https://localhost:8080/"
        }
      },
      "source": [
        "custom_model.summary()"
      ],
      "execution_count": 24,
      "outputs": [
        {
          "output_type": "stream",
          "text": [
            "Model: \"sequential\"\n",
            "_________________________________________________________________\n",
            "Layer (type)                 Output Shape              Param #   \n",
            "=================================================================\n",
            "resnet50 (Functional)        (None, 2048)              23587712  \n",
            "_________________________________________________________________\n",
            "dense (Dense)                (None, 3)                 6147      \n",
            "=================================================================\n",
            "Total params: 23,593,859\n",
            "Trainable params: 6,147\n",
            "Non-trainable params: 23,587,712\n",
            "_________________________________________________________________\n"
          ],
          "name": "stdout"
        }
      ]
    },
    {
      "cell_type": "code",
      "metadata": {
        "id": "KkEOEXDKGP_-"
      },
      "source": [
        "custom_model.compile(optimizer = \"adam\", loss = OBJECTIVE_FUNCTION, metrics = LOSS_METRICS)"
      ],
      "execution_count": 25,
      "outputs": []
    },
    {
      "cell_type": "code",
      "metadata": {
        "id": "jgjiz_91GkOw",
        "outputId": "ec62671b-59be-4bb2-8c58-0954fcad74c4",
        "colab": {
          "base_uri": "https://localhost:8080/"
        }
      },
      "source": [
        "image_size = IMAGE_RESIZE\n",
        "data_generator = ImageDataGenerator(preprocessing_function=preprocess_input)\n",
        "\n",
        "train_generator = data_generator.flow_from_directory(\n",
        "        '/content/train',\n",
        "        target_size=(image_size, image_size),\n",
        "        batch_size=BATCH_SIZE_TRAINING,\n",
        "        class_mode='categorical')\n",
        "\n",
        "validation_generator = data_generator.flow_from_directory(\n",
        "        '/content/validation',\n",
        "        target_size=(image_size, image_size),\n",
        "        batch_size=BATCH_SIZE_VALIDATION,\n",
        "        class_mode='categorical') "
      ],
      "execution_count": 26,
      "outputs": [
        {
          "output_type": "stream",
          "text": [
            "Found 280 images belonging to 3 classes.\n",
            "Found 104 images belonging to 3 classes.\n"
          ],
          "name": "stdout"
        }
      ]
    },
    {
      "cell_type": "code",
      "metadata": {
        "id": "YaEYRGQoJ7Q8"
      },
      "source": [
        "from tensorflow.python.keras.callbacks import EarlyStopping, ModelCheckpoint\n",
        "\n",
        "cb_early_stopper = EarlyStopping(monitor = 'val_loss', patience = EARLY_STOP_PATIENCE)\n",
        "cb_checkpointer = ModelCheckpoint(filepath = 'best.hdf5', monitor = 'val_loss', save_best_only = True, mode = 'auto')"
      ],
      "execution_count": 27,
      "outputs": []
    },
    {
      "cell_type": "code",
      "metadata": {
        "id": "hKAnw_ZASK59",
        "outputId": "e3f64837-a7de-4a3b-d76a-fe8b6a4cbd7a",
        "colab": {
          "base_uri": "https://localhost:8080/"
        }
      },
      "source": [
        "fit_history = custom_model.fit_generator(\n",
        "        train_generator,\n",
        "        #steps_per_epoch=STEPS_PER_EPOCH_TRAINING,\n",
        "        epochs = NUM_EPOCHS,\n",
        "        validation_data=validation_generator,\n",
        "        #validation_steps=STEPS_PER_EPOCH_VALIDATION,\n",
        "        callbacks=[cb_checkpointer, cb_early_stopper]\n",
        ")"
      ],
      "execution_count": 28,
      "outputs": [
        {
          "output_type": "stream",
          "text": [
            "WARNING:tensorflow:From <ipython-input-28-1ba85137c766>:7: Model.fit_generator (from tensorflow.python.keras.engine.training) is deprecated and will be removed in a future version.\n",
            "Instructions for updating:\n",
            "Please use Model.fit, which supports generators.\n",
            "Epoch 1/20\n",
            "3/3 [==============================] - 3s 1s/step - loss: 1.4572 - accuracy: 0.3286 - val_loss: 1.4600 - val_accuracy: 0.3462\n",
            "Epoch 2/20\n",
            "3/3 [==============================] - 2s 692ms/step - loss: 1.2833 - accuracy: 0.3929 - val_loss: 1.2371 - val_accuracy: 0.3462\n",
            "Epoch 3/20\n",
            "3/3 [==============================] - 2s 827ms/step - loss: 1.0536 - accuracy: 0.4643 - val_loss: 1.2183 - val_accuracy: 0.4423\n",
            "Epoch 4/20\n",
            "3/3 [==============================] - 2s 679ms/step - loss: 0.9480 - accuracy: 0.5250 - val_loss: 1.0931 - val_accuracy: 0.4615\n",
            "Epoch 5/20\n",
            "3/3 [==============================] - 2s 815ms/step - loss: 0.8256 - accuracy: 0.6143 - val_loss: 1.0324 - val_accuracy: 0.5288\n",
            "Epoch 6/20\n",
            "3/3 [==============================] - 2s 713ms/step - loss: 0.7673 - accuracy: 0.6679 - val_loss: 0.9838 - val_accuracy: 0.5385\n",
            "Epoch 7/20\n",
            "3/3 [==============================] - 3s 852ms/step - loss: 0.6861 - accuracy: 0.7321 - val_loss: 0.9800 - val_accuracy: 0.5577\n",
            "Epoch 8/20\n",
            "3/3 [==============================] - 2s 676ms/step - loss: 0.6500 - accuracy: 0.7500 - val_loss: 0.9769 - val_accuracy: 0.5673\n",
            "Epoch 9/20\n",
            "3/3 [==============================] - 2s 821ms/step - loss: 0.6038 - accuracy: 0.7750 - val_loss: 0.9266 - val_accuracy: 0.5962\n",
            "Epoch 10/20\n",
            "3/3 [==============================] - 2s 710ms/step - loss: 0.5655 - accuracy: 0.7964 - val_loss: 0.9105 - val_accuracy: 0.5865\n",
            "Epoch 11/20\n",
            "3/3 [==============================] - 2s 830ms/step - loss: 0.5400 - accuracy: 0.8000 - val_loss: 0.8967 - val_accuracy: 0.6058\n",
            "Epoch 12/20\n",
            "3/3 [==============================] - 2s 520ms/step - loss: 0.4996 - accuracy: 0.8143 - val_loss: 0.9122 - val_accuracy: 0.5865\n",
            "Epoch 13/20\n",
            "3/3 [==============================] - 2s 585ms/step - loss: 0.4843 - accuracy: 0.8250 - val_loss: 0.9049 - val_accuracy: 0.5962\n",
            "Epoch 14/20\n",
            "3/3 [==============================] - 2s 675ms/step - loss: 0.4575 - accuracy: 0.8429 - val_loss: 0.8748 - val_accuracy: 0.6250\n",
            "Epoch 15/20\n",
            "3/3 [==============================] - 3s 843ms/step - loss: 0.4348 - accuracy: 0.8607 - val_loss: 0.8650 - val_accuracy: 0.6058\n",
            "Epoch 16/20\n",
            "3/3 [==============================] - 2s 532ms/step - loss: 0.4187 - accuracy: 0.8607 - val_loss: 0.8678 - val_accuracy: 0.6154\n",
            "Epoch 17/20\n",
            "3/3 [==============================] - 2s 708ms/step - loss: 0.3985 - accuracy: 0.8679 - val_loss: 0.8632 - val_accuracy: 0.6154\n",
            "Epoch 18/20\n",
            "3/3 [==============================] - 2s 589ms/step - loss: 0.3828 - accuracy: 0.8857 - val_loss: 0.8665 - val_accuracy: 0.6154\n",
            "Epoch 19/20\n",
            "3/3 [==============================] - 2s 675ms/step - loss: 0.3710 - accuracy: 0.8964 - val_loss: 0.8604 - val_accuracy: 0.6058\n",
            "Epoch 20/20\n",
            "3/3 [==============================] - 2s 817ms/step - loss: 0.3571 - accuracy: 0.9107 - val_loss: 0.8460 - val_accuracy: 0.6346\n"
          ],
          "name": "stdout"
        }
      ]
    },
    {
      "cell_type": "code",
      "metadata": {
        "id": "VCtnhTGGSeFy",
        "outputId": "dbb3df27-4f44-4331-986f-d2007b062458",
        "colab": {
          "base_uri": "https://localhost:8080/"
        }
      },
      "source": [
        "print(fit_history.history.keys())"
      ],
      "execution_count": 29,
      "outputs": [
        {
          "output_type": "stream",
          "text": [
            "dict_keys(['loss', 'accuracy', 'val_loss', 'val_accuracy'])\n"
          ],
          "name": "stdout"
        }
      ]
    },
    {
      "cell_type": "code",
      "metadata": {
        "id": "UhhjfeKWauM8"
      },
      "source": [
        "import matplotlib.pyplot as plt\n"
      ],
      "execution_count": 30,
      "outputs": []
    },
    {
      "cell_type": "code",
      "metadata": {
        "id": "nFcdVIkVaodg",
        "outputId": "ddb0f700-13aa-4040-b130-1320e009c3d6",
        "colab": {
          "base_uri": "https://localhost:8080/",
          "height": 276
        }
      },
      "source": [
        "plt.figure(1, figsize = (15,8)) \n",
        "    \n",
        "plt.subplot(221)  \n",
        "plt.plot(fit_history.history['accuracy'])  \n",
        "plt.plot(fit_history.history['val_accuracy'])  \n",
        "plt.title('model accuracy')  \n",
        "plt.ylabel('accuracy')  \n",
        "plt.xlabel('epoch')  \n",
        "plt.legend(['train', 'valid']) \n",
        "    \n",
        "plt.subplot(222)  \n",
        "plt.plot(fit_history.history['loss'])  \n",
        "plt.plot(fit_history.history['val_loss'])  \n",
        "plt.title('model loss')  \n",
        "plt.ylabel('loss')  \n",
        "plt.xlabel('epoch')  \n",
        "plt.legend(['train', 'valid']) \n",
        "\n",
        "plt.show()\n"
      ],
      "execution_count": 31,
      "outputs": [
        {
          "output_type": "display_data",
          "data": {
            "image/png": "[encoded data removed]",
            "text/plain": [
              "<Figure size 1080x576 with 2 Axes>"
            ]
          },
          "metadata": {
            "tags": [],
            "needs_background": "light"
          }
        }
      ]
    },
    {
      "cell_type": "markdown",
      "metadata": {
        "id": "uAdaYBORmo3P"
      },
      "source": [
        "### Xception"
      ]
    },
    {
      "cell_type": "code",
      "metadata": {
        "id": "Cu1lyuOsmrpc"
      },
      "source": [
        "from keras.applications import Xception"
      ],
      "execution_count": 32,
      "outputs": []
    },
    {
      "cell_type": "code",
      "metadata": {
        "id": "IzlFy6n5nZRx",
        "outputId": "41599bbe-afc9-4b28-81f0-28a79b099ddd",
        "colab": {
          "base_uri": "https://localhost:8080/"
        }
      },
      "source": [
        "xception_custom_model = Sequential()\n",
        "xception_custom_model.add(Xception(include_top=False, weights=\"imagenet\", input_shape = (224, 224, 3), pooling=\"avg\"))\n",
        "xception_custom_model.add(Dense(3, activation=\"softmax\"))"
      ],
      "execution_count": 33,
      "outputs": [
        {
          "output_type": "stream",
          "text": [
            "Downloading data from https://storage.googleapis.com/tensorflow/keras-applications/xception/xception_weights_tf_dim_ordering_tf_kernels_notop.h5\n",
            "83689472/83683744 [==============================] - 3s 0us/step\n"
          ],
          "name": "stdout"
        }
      ]
    },
    {
      "cell_type": "code",
      "metadata": {
        "id": "Zyp26h9pooIW"
      },
      "source": [
        "xception_custom_model.layers[0].trainable = False"
      ],
      "execution_count": 34,
      "outputs": []
    },
    {
      "cell_type": "code",
      "metadata": {
        "id": "cd3UYJ_johxS",
        "outputId": "7e3fe758-2393-4642-d72d-f85332a692fe",
        "colab": {
          "base_uri": "https://localhost:8080/"
        }
      },
      "source": [
        "xception_custom_model.summary()"
      ],
      "execution_count": 35,
      "outputs": [
        {
          "output_type": "stream",
          "text": [
            "Model: \"sequential_1\"\n",
            "_________________________________________________________________\n",
            "Layer (type)                 Output Shape              Param #   \n",
            "=================================================================\n",
            "xception (Functional)        (None, 2048)              20861480  \n",
            "_________________________________________________________________\n",
            "dense_1 (Dense)              (None, 3)                 6147      \n",
            "=================================================================\n",
            "Total params: 20,867,627\n",
            "Trainable params: 6,147\n",
            "Non-trainable params: 20,861,480\n",
            "_________________________________________________________________\n"
          ],
          "name": "stdout"
        }
      ]
    },
    {
      "cell_type": "code",
      "metadata": {
        "id": "DECxlQo6oloC"
      },
      "source": [
        "xception_custom_model.compile(optimizer = \"adam\", loss = \"categorical_crossentropy\", metrics = \"accuracy\")"
      ],
      "execution_count": 36,
      "outputs": []
    },
    {
      "cell_type": "code",
      "metadata": {
        "id": "oiREcQcLpAAc",
        "outputId": "7c514a6f-7bfa-44c1-bf50-fb52812ab147",
        "colab": {
          "base_uri": "https://localhost:8080/"
        }
      },
      "source": [
        "xception_fit_history = xception_custom_model.fit_generator(\n",
        "        train_generator,\n",
        "        #steps_per_epoch=STEPS_PER_EPOCH_TRAINING,\n",
        "        epochs = NUM_EPOCHS,\n",
        "        validation_data=validation_generator,\n",
        "        #validation_steps=STEPS_PER_EPOCH_VALIDATION,\n",
        "        callbacks=[cb_checkpointer, cb_early_stopper]\n",
        ")"
      ],
      "execution_count": 37,
      "outputs": [
        {
          "output_type": "stream",
          "text": [
            "Epoch 1/20\n",
            "3/3 [==============================] - 3s 1s/step - loss: 3.2366 - accuracy: 0.3036 - val_loss: 1.9394 - val_accuracy: 0.3173\n",
            "Epoch 2/20\n",
            "3/3 [==============================] - 2s 553ms/step - loss: 1.9475 - accuracy: 0.3679 - val_loss: 2.3019 - val_accuracy: 0.3846\n",
            "Epoch 3/20\n",
            "3/3 [==============================] - 2s 601ms/step - loss: 2.0791 - accuracy: 0.4179 - val_loss: 1.7140 - val_accuracy: 0.3365\n",
            "Epoch 4/20\n",
            "3/3 [==============================] - 2s 592ms/step - loss: 1.6262 - accuracy: 0.4071 - val_loss: 1.4663 - val_accuracy: 0.3942\n",
            "Epoch 5/20\n",
            "3/3 [==============================] - 2s 553ms/step - loss: 1.5255 - accuracy: 0.4464 - val_loss: 1.5291 - val_accuracy: 0.4231\n",
            "Epoch 6/20\n",
            "3/3 [==============================] - 2s 561ms/step - loss: 1.4429 - accuracy: 0.4286 - val_loss: 1.4702 - val_accuracy: 0.3750\n",
            "Epoch 7/20\n",
            "3/3 [==============================] - 2s 592ms/step - loss: 1.2493 - accuracy: 0.4679 - val_loss: 1.4921 - val_accuracy: 0.4327\n"
          ],
          "name": "stdout"
        }
      ]
    }
  ]
}